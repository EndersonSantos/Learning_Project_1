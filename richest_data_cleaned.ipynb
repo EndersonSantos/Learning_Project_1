{
 "cells": [
  {
   "cell_type": "markdown",
   "metadata": {},
   "source": [
    "# Loading and Cleaning the data sete"
   ]
  },
  {
   "cell_type": "markdown",
   "metadata": {},
   "source": [
    "## Import the mean libraries that we going to be using"
   ]
  },
  {
   "cell_type": "code",
   "execution_count": 1,
   "metadata": {},
   "outputs": [],
   "source": [
    "import numpy as np \n",
    "import pandas as pd\n",
    "import matplotlib.pyplot as plt\n",
    "import seaborn as sns"
   ]
  },
  {
   "cell_type": "markdown",
   "metadata": {},
   "source": [
    "## Specifying the path and loading the archive with pandas "
   ]
  },
  {
   "cell_type": "code",
   "execution_count": 18,
   "metadata": {},
   "outputs": [],
   "source": [
    "path = \"C:/Users/ewill/OneDrive/Desktop/Richest/richest.csv\"\n",
    "df = pd.read_csv(path, delimiter=\";\")"
   ]
  },
  {
   "cell_type": "code",
   "execution_count": 8,
   "metadata": {},
   "outputs": [
    {
     "data": {
      "text/html": [
       "<div>\n",
       "<style scoped>\n",
       "    .dataframe tbody tr th:only-of-type {\n",
       "        vertical-align: middle;\n",
       "    }\n",
       "\n",
       "    .dataframe tbody tr th {\n",
       "        vertical-align: top;\n",
       "    }\n",
       "\n",
       "    .dataframe thead th {\n",
       "        text-align: right;\n",
       "    }\n",
       "</style>\n",
       "<table border=\"1\" class=\"dataframe\">\n",
       "  <thead>\n",
       "    <tr style=\"text-align: right;\">\n",
       "      <th></th>\n",
       "      <th>Index</th>\n",
       "      <th>Name</th>\n",
       "      <th>Nationality</th>\n",
       "      <th>CurrentRank</th>\n",
       "      <th>PreviousYearRank</th>\n",
       "      <th>Sport</th>\n",
       "      <th>Year</th>\n",
       "      <th>earnings</th>\n",
       "    </tr>\n",
       "  </thead>\n",
       "  <tbody>\n",
       "    <tr>\n",
       "      <th>0</th>\n",
       "      <td>1</td>\n",
       "      <td>Mike Tyson</td>\n",
       "      <td>USA</td>\n",
       "      <td>1</td>\n",
       "      <td>NaN</td>\n",
       "      <td>boxing</td>\n",
       "      <td>1990</td>\n",
       "      <td>28.6</td>\n",
       "    </tr>\n",
       "    <tr>\n",
       "      <th>1</th>\n",
       "      <td>2</td>\n",
       "      <td>Buster Douglas</td>\n",
       "      <td>USA</td>\n",
       "      <td>2</td>\n",
       "      <td>NaN</td>\n",
       "      <td>boxing</td>\n",
       "      <td>1990</td>\n",
       "      <td>26.0</td>\n",
       "    </tr>\n",
       "    <tr>\n",
       "      <th>2</th>\n",
       "      <td>3</td>\n",
       "      <td>Sugar Ray Leonard</td>\n",
       "      <td>USA</td>\n",
       "      <td>3</td>\n",
       "      <td>NaN</td>\n",
       "      <td>boxing</td>\n",
       "      <td>1990</td>\n",
       "      <td>13.0</td>\n",
       "    </tr>\n",
       "    <tr>\n",
       "      <th>3</th>\n",
       "      <td>4</td>\n",
       "      <td>Ayrton Senna</td>\n",
       "      <td>Brazil</td>\n",
       "      <td>4</td>\n",
       "      <td>NaN</td>\n",
       "      <td>auto racing</td>\n",
       "      <td>1990</td>\n",
       "      <td>10.0</td>\n",
       "    </tr>\n",
       "    <tr>\n",
       "      <th>4</th>\n",
       "      <td>5</td>\n",
       "      <td>Alain Prost</td>\n",
       "      <td>France</td>\n",
       "      <td>5</td>\n",
       "      <td>NaN</td>\n",
       "      <td>auto racing</td>\n",
       "      <td>1990</td>\n",
       "      <td>9.0</td>\n",
       "    </tr>\n",
       "  </tbody>\n",
       "</table>\n",
       "</div>"
      ],
      "text/plain": [
       "   Index               Name Nationality  CurrentRank PreviousYearRank  \\\n",
       "0      1         Mike Tyson         USA            1              NaN   \n",
       "1      2     Buster Douglas         USA            2              NaN   \n",
       "2      3  Sugar Ray Leonard         USA            3              NaN   \n",
       "3      4       Ayrton Senna      Brazil            4              NaN   \n",
       "4      5        Alain Prost      France            5              NaN   \n",
       "\n",
       "         Sport  Year  earnings  \n",
       "0       boxing  1990      28.6  \n",
       "1       boxing  1990      26.0  \n",
       "2       boxing  1990      13.0  \n",
       "3  auto racing  1990      10.0  \n",
       "4  auto racing  1990       9.0  "
      ]
     },
     "execution_count": 8,
     "metadata": {},
     "output_type": "execute_result"
    }
   ],
   "source": [
    "df.head()"
   ]
  },
  {
   "cell_type": "markdown",
   "metadata": {},
   "source": [
    "## Areas to clean\n",
    "- Set the idex column as index\n",
    "- Delete previousyearrank column\n",
    "- Guarantee consistency on the name entrys on sports  "
   ]
  },
  {
   "cell_type": "markdown",
   "metadata": {},
   "source": [
    "### Set the index column as index"
   ]
  },
  {
   "cell_type": "code",
   "execution_count": 19,
   "metadata": {},
   "outputs": [],
   "source": [
    "df = df.set_index(\"Index\")"
   ]
  },
  {
   "cell_type": "code",
   "execution_count": 11,
   "metadata": {},
   "outputs": [
    {
     "data": {
      "text/html": [
       "<div>\n",
       "<style scoped>\n",
       "    .dataframe tbody tr th:only-of-type {\n",
       "        vertical-align: middle;\n",
       "    }\n",
       "\n",
       "    .dataframe tbody tr th {\n",
       "        vertical-align: top;\n",
       "    }\n",
       "\n",
       "    .dataframe thead th {\n",
       "        text-align: right;\n",
       "    }\n",
       "</style>\n",
       "<table border=\"1\" class=\"dataframe\">\n",
       "  <thead>\n",
       "    <tr style=\"text-align: right;\">\n",
       "      <th></th>\n",
       "      <th>Name</th>\n",
       "      <th>Nationality</th>\n",
       "      <th>CurrentRank</th>\n",
       "      <th>PreviousYearRank</th>\n",
       "      <th>Sport</th>\n",
       "      <th>Year</th>\n",
       "      <th>earnings</th>\n",
       "    </tr>\n",
       "    <tr>\n",
       "      <th>Index</th>\n",
       "      <th></th>\n",
       "      <th></th>\n",
       "      <th></th>\n",
       "      <th></th>\n",
       "      <th></th>\n",
       "      <th></th>\n",
       "      <th></th>\n",
       "    </tr>\n",
       "  </thead>\n",
       "  <tbody>\n",
       "    <tr>\n",
       "      <th>1</th>\n",
       "      <td>Mike Tyson</td>\n",
       "      <td>USA</td>\n",
       "      <td>1</td>\n",
       "      <td>NaN</td>\n",
       "      <td>boxing</td>\n",
       "      <td>1990</td>\n",
       "      <td>28.6</td>\n",
       "    </tr>\n",
       "    <tr>\n",
       "      <th>2</th>\n",
       "      <td>Buster Douglas</td>\n",
       "      <td>USA</td>\n",
       "      <td>2</td>\n",
       "      <td>NaN</td>\n",
       "      <td>boxing</td>\n",
       "      <td>1990</td>\n",
       "      <td>26.0</td>\n",
       "    </tr>\n",
       "    <tr>\n",
       "      <th>3</th>\n",
       "      <td>Sugar Ray Leonard</td>\n",
       "      <td>USA</td>\n",
       "      <td>3</td>\n",
       "      <td>NaN</td>\n",
       "      <td>boxing</td>\n",
       "      <td>1990</td>\n",
       "      <td>13.0</td>\n",
       "    </tr>\n",
       "    <tr>\n",
       "      <th>4</th>\n",
       "      <td>Ayrton Senna</td>\n",
       "      <td>Brazil</td>\n",
       "      <td>4</td>\n",
       "      <td>NaN</td>\n",
       "      <td>auto racing</td>\n",
       "      <td>1990</td>\n",
       "      <td>10.0</td>\n",
       "    </tr>\n",
       "    <tr>\n",
       "      <th>5</th>\n",
       "      <td>Alain Prost</td>\n",
       "      <td>France</td>\n",
       "      <td>5</td>\n",
       "      <td>NaN</td>\n",
       "      <td>auto racing</td>\n",
       "      <td>1990</td>\n",
       "      <td>9.0</td>\n",
       "    </tr>\n",
       "  </tbody>\n",
       "</table>\n",
       "</div>"
      ],
      "text/plain": [
       "                    Name Nationality  CurrentRank PreviousYearRank  \\\n",
       "Index                                                                \n",
       "1             Mike Tyson         USA            1              NaN   \n",
       "2         Buster Douglas         USA            2              NaN   \n",
       "3      Sugar Ray Leonard         USA            3              NaN   \n",
       "4           Ayrton Senna      Brazil            4              NaN   \n",
       "5            Alain Prost      France            5              NaN   \n",
       "\n",
       "             Sport  Year  earnings  \n",
       "Index                               \n",
       "1           boxing  1990      28.6  \n",
       "2           boxing  1990      26.0  \n",
       "3           boxing  1990      13.0  \n",
       "4      auto racing  1990      10.0  \n",
       "5      auto racing  1990       9.0  "
      ]
     },
     "execution_count": 11,
     "metadata": {},
     "output_type": "execute_result"
    }
   ],
   "source": [
    "df.head()"
   ]
  },
  {
   "cell_type": "markdown",
   "metadata": {},
   "source": [
    "### Delete previousyearrank column"
   ]
  },
  {
   "cell_type": "code",
   "execution_count": 20,
   "metadata": {},
   "outputs": [],
   "source": [
    "df = df.drop(\"PreviousYearRank\", axis=1)"
   ]
  },
  {
   "cell_type": "code",
   "execution_count": 14,
   "metadata": {},
   "outputs": [
    {
     "data": {
      "text/html": [
       "<div>\n",
       "<style scoped>\n",
       "    .dataframe tbody tr th:only-of-type {\n",
       "        vertical-align: middle;\n",
       "    }\n",
       "\n",
       "    .dataframe tbody tr th {\n",
       "        vertical-align: top;\n",
       "    }\n",
       "\n",
       "    .dataframe thead th {\n",
       "        text-align: right;\n",
       "    }\n",
       "</style>\n",
       "<table border=\"1\" class=\"dataframe\">\n",
       "  <thead>\n",
       "    <tr style=\"text-align: right;\">\n",
       "      <th></th>\n",
       "      <th>Name</th>\n",
       "      <th>Nationality</th>\n",
       "      <th>CurrentRank</th>\n",
       "      <th>Sport</th>\n",
       "      <th>Year</th>\n",
       "      <th>earnings</th>\n",
       "    </tr>\n",
       "    <tr>\n",
       "      <th>Index</th>\n",
       "      <th></th>\n",
       "      <th></th>\n",
       "      <th></th>\n",
       "      <th></th>\n",
       "      <th></th>\n",
       "      <th></th>\n",
       "    </tr>\n",
       "  </thead>\n",
       "  <tbody>\n",
       "    <tr>\n",
       "      <th>1</th>\n",
       "      <td>Mike Tyson</td>\n",
       "      <td>USA</td>\n",
       "      <td>1</td>\n",
       "      <td>boxing</td>\n",
       "      <td>1990</td>\n",
       "      <td>28.6</td>\n",
       "    </tr>\n",
       "    <tr>\n",
       "      <th>2</th>\n",
       "      <td>Buster Douglas</td>\n",
       "      <td>USA</td>\n",
       "      <td>2</td>\n",
       "      <td>boxing</td>\n",
       "      <td>1990</td>\n",
       "      <td>26.0</td>\n",
       "    </tr>\n",
       "    <tr>\n",
       "      <th>3</th>\n",
       "      <td>Sugar Ray Leonard</td>\n",
       "      <td>USA</td>\n",
       "      <td>3</td>\n",
       "      <td>boxing</td>\n",
       "      <td>1990</td>\n",
       "      <td>13.0</td>\n",
       "    </tr>\n",
       "    <tr>\n",
       "      <th>4</th>\n",
       "      <td>Ayrton Senna</td>\n",
       "      <td>Brazil</td>\n",
       "      <td>4</td>\n",
       "      <td>auto racing</td>\n",
       "      <td>1990</td>\n",
       "      <td>10.0</td>\n",
       "    </tr>\n",
       "    <tr>\n",
       "      <th>5</th>\n",
       "      <td>Alain Prost</td>\n",
       "      <td>France</td>\n",
       "      <td>5</td>\n",
       "      <td>auto racing</td>\n",
       "      <td>1990</td>\n",
       "      <td>9.0</td>\n",
       "    </tr>\n",
       "  </tbody>\n",
       "</table>\n",
       "</div>"
      ],
      "text/plain": [
       "                    Name Nationality  CurrentRank        Sport  Year  earnings\n",
       "Index                                                                         \n",
       "1             Mike Tyson         USA            1       boxing  1990      28.6\n",
       "2         Buster Douglas         USA            2       boxing  1990      26.0\n",
       "3      Sugar Ray Leonard         USA            3       boxing  1990      13.0\n",
       "4           Ayrton Senna      Brazil            4  auto racing  1990      10.0\n",
       "5            Alain Prost      France            5  auto racing  1990       9.0"
      ]
     },
     "execution_count": 14,
     "metadata": {},
     "output_type": "execute_result"
    }
   ],
   "source": [
    "df.head()"
   ]
  },
  {
   "cell_type": "markdown",
   "metadata": {},
   "source": [
    "### Guarantee consistency on the name entrys on sports"
   ]
  },
  {
   "cell_type": "code",
   "execution_count": 24,
   "metadata": {},
   "outputs": [
    {
     "data": {
      "text/plain": [
       "array(['boxing', 'auto racing', 'golf', 'basketball', 'tennis', 'nfl',\n",
       "       'nba', 'baseball', 'ice hockey', 'american football / baseball',\n",
       "       'f1 motorsports', 'nascar', 'hockey', 'auto racing (nascar)',\n",
       "       'f1 racing', 'american football', 'soccer', 'cycling',\n",
       "       'motorcycle gp', 'mma'], dtype=object)"
      ]
     },
     "execution_count": 24,
     "metadata": {},
     "output_type": "execute_result"
    }
   ],
   "source": [
    "df[\"Sport\"].unique()"
   ]
  },
  {
   "cell_type": "markdown",
   "metadata": {},
   "source": [
    "#### First let's fix some captalizations issues  "
   ]
  },
  {
   "cell_type": "code",
   "execution_count": 25,
   "metadata": {},
   "outputs": [],
   "source": [
    "df[\"Sport\"] = df[\"Sport\"].str.lower()"
   ]
  },
  {
   "cell_type": "code",
   "execution_count": 26,
   "metadata": {},
   "outputs": [
    {
     "data": {
      "text/html": [
       "<div>\n",
       "<style scoped>\n",
       "    .dataframe tbody tr th:only-of-type {\n",
       "        vertical-align: middle;\n",
       "    }\n",
       "\n",
       "    .dataframe tbody tr th {\n",
       "        vertical-align: top;\n",
       "    }\n",
       "\n",
       "    .dataframe thead th {\n",
       "        text-align: right;\n",
       "    }\n",
       "</style>\n",
       "<table border=\"1\" class=\"dataframe\">\n",
       "  <thead>\n",
       "    <tr style=\"text-align: right;\">\n",
       "      <th></th>\n",
       "      <th>Name</th>\n",
       "      <th>Nationality</th>\n",
       "      <th>CurrentRank</th>\n",
       "      <th>Sport</th>\n",
       "      <th>Year</th>\n",
       "      <th>earnings</th>\n",
       "    </tr>\n",
       "    <tr>\n",
       "      <th>Index</th>\n",
       "      <th></th>\n",
       "      <th></th>\n",
       "      <th></th>\n",
       "      <th></th>\n",
       "      <th></th>\n",
       "      <th></th>\n",
       "    </tr>\n",
       "  </thead>\n",
       "  <tbody>\n",
       "    <tr>\n",
       "      <th>1</th>\n",
       "      <td>Mike Tyson</td>\n",
       "      <td>USA</td>\n",
       "      <td>1</td>\n",
       "      <td>boxing</td>\n",
       "      <td>1990</td>\n",
       "      <td>28.6</td>\n",
       "    </tr>\n",
       "    <tr>\n",
       "      <th>2</th>\n",
       "      <td>Buster Douglas</td>\n",
       "      <td>USA</td>\n",
       "      <td>2</td>\n",
       "      <td>boxing</td>\n",
       "      <td>1990</td>\n",
       "      <td>26.0</td>\n",
       "    </tr>\n",
       "    <tr>\n",
       "      <th>3</th>\n",
       "      <td>Sugar Ray Leonard</td>\n",
       "      <td>USA</td>\n",
       "      <td>3</td>\n",
       "      <td>boxing</td>\n",
       "      <td>1990</td>\n",
       "      <td>13.0</td>\n",
       "    </tr>\n",
       "    <tr>\n",
       "      <th>4</th>\n",
       "      <td>Ayrton Senna</td>\n",
       "      <td>Brazil</td>\n",
       "      <td>4</td>\n",
       "      <td>auto racing</td>\n",
       "      <td>1990</td>\n",
       "      <td>10.0</td>\n",
       "    </tr>\n",
       "    <tr>\n",
       "      <th>5</th>\n",
       "      <td>Alain Prost</td>\n",
       "      <td>France</td>\n",
       "      <td>5</td>\n",
       "      <td>auto racing</td>\n",
       "      <td>1990</td>\n",
       "      <td>9.0</td>\n",
       "    </tr>\n",
       "  </tbody>\n",
       "</table>\n",
       "</div>"
      ],
      "text/plain": [
       "                    Name Nationality  CurrentRank        Sport  Year  earnings\n",
       "Index                                                                         \n",
       "1             Mike Tyson         USA            1       boxing  1990      28.6\n",
       "2         Buster Douglas         USA            2       boxing  1990      26.0\n",
       "3      Sugar Ray Leonard         USA            3       boxing  1990      13.0\n",
       "4           Ayrton Senna      Brazil            4  auto racing  1990      10.0\n",
       "5            Alain Prost      France            5  auto racing  1990       9.0"
      ]
     },
     "execution_count": 26,
     "metadata": {},
     "output_type": "execute_result"
    }
   ],
   "source": [
    "df.head()"
   ]
  },
  {
   "cell_type": "code",
   "execution_count": 27,
   "metadata": {},
   "outputs": [
    {
     "data": {
      "text/plain": [
       "array(['boxing', 'auto racing', 'golf', 'basketball', 'tennis', 'nfl',\n",
       "       'nba', 'baseball', 'ice hockey', 'american football / baseball',\n",
       "       'f1 motorsports', 'nascar', 'hockey', 'auto racing (nascar)',\n",
       "       'f1 racing', 'american football', 'soccer', 'cycling',\n",
       "       'motorcycle gp', 'mma'], dtype=object)"
      ]
     },
     "execution_count": 27,
     "metadata": {},
     "output_type": "execute_result"
    }
   ],
   "source": [
    "df[\"Sport\"].unique()"
   ]
  },
  {
   "cell_type": "markdown",
   "metadata": {},
   "source": [
    " #### It looks like some sports has differentes names for example \"nba \" also is called \"basketball\". \n",
    " #### Let's create a function to fix this problem"
   ]
  },
  {
   "cell_type": "code",
   "execution_count": 28,
   "metadata": {},
   "outputs": [],
   "source": [
    "def unify_names(sport):\n",
    "    if sport == 'auto racing' or sport == 'nascar' or sport == 'auto racing (nascar)':\n",
    "        return 'car racing'\n",
    "    elif sport == 'nba':\n",
    "        return 'basketball'\n",
    "    elif sport == 'nfl':\n",
    "        return 'american football'\n",
    "    elif sport == 'ice hockey':\n",
    "        return 'hockey'\n",
    "    elif sport == 'motorcycle gp' or sport == 'f1 motorsports':\n",
    "        return 'motor racing'\n",
    "    else:\n",
    "        return sport "
   ]
  },
  {
   "cell_type": "code",
   "execution_count": 29,
   "metadata": {},
   "outputs": [],
   "source": [
    "df[\"Sport\"] = df[\"Sport\"].apply(unify_names)"
   ]
  },
  {
   "cell_type": "code",
   "execution_count": 30,
   "metadata": {},
   "outputs": [
    {
     "data": {
      "text/html": [
       "<div>\n",
       "<style scoped>\n",
       "    .dataframe tbody tr th:only-of-type {\n",
       "        vertical-align: middle;\n",
       "    }\n",
       "\n",
       "    .dataframe tbody tr th {\n",
       "        vertical-align: top;\n",
       "    }\n",
       "\n",
       "    .dataframe thead th {\n",
       "        text-align: right;\n",
       "    }\n",
       "</style>\n",
       "<table border=\"1\" class=\"dataframe\">\n",
       "  <thead>\n",
       "    <tr style=\"text-align: right;\">\n",
       "      <th></th>\n",
       "      <th>Name</th>\n",
       "      <th>Nationality</th>\n",
       "      <th>CurrentRank</th>\n",
       "      <th>Sport</th>\n",
       "      <th>Year</th>\n",
       "      <th>earnings</th>\n",
       "    </tr>\n",
       "    <tr>\n",
       "      <th>Index</th>\n",
       "      <th></th>\n",
       "      <th></th>\n",
       "      <th></th>\n",
       "      <th></th>\n",
       "      <th></th>\n",
       "      <th></th>\n",
       "    </tr>\n",
       "  </thead>\n",
       "  <tbody>\n",
       "    <tr>\n",
       "      <th>1</th>\n",
       "      <td>Mike Tyson</td>\n",
       "      <td>USA</td>\n",
       "      <td>1</td>\n",
       "      <td>boxing</td>\n",
       "      <td>1990</td>\n",
       "      <td>28.6</td>\n",
       "    </tr>\n",
       "    <tr>\n",
       "      <th>2</th>\n",
       "      <td>Buster Douglas</td>\n",
       "      <td>USA</td>\n",
       "      <td>2</td>\n",
       "      <td>boxing</td>\n",
       "      <td>1990</td>\n",
       "      <td>26.0</td>\n",
       "    </tr>\n",
       "    <tr>\n",
       "      <th>3</th>\n",
       "      <td>Sugar Ray Leonard</td>\n",
       "      <td>USA</td>\n",
       "      <td>3</td>\n",
       "      <td>boxing</td>\n",
       "      <td>1990</td>\n",
       "      <td>13.0</td>\n",
       "    </tr>\n",
       "    <tr>\n",
       "      <th>4</th>\n",
       "      <td>Ayrton Senna</td>\n",
       "      <td>Brazil</td>\n",
       "      <td>4</td>\n",
       "      <td>car racing</td>\n",
       "      <td>1990</td>\n",
       "      <td>10.0</td>\n",
       "    </tr>\n",
       "    <tr>\n",
       "      <th>5</th>\n",
       "      <td>Alain Prost</td>\n",
       "      <td>France</td>\n",
       "      <td>5</td>\n",
       "      <td>car racing</td>\n",
       "      <td>1990</td>\n",
       "      <td>9.0</td>\n",
       "    </tr>\n",
       "  </tbody>\n",
       "</table>\n",
       "</div>"
      ],
      "text/plain": [
       "                    Name Nationality  CurrentRank       Sport  Year  earnings\n",
       "Index                                                                        \n",
       "1             Mike Tyson         USA            1      boxing  1990      28.6\n",
       "2         Buster Douglas         USA            2      boxing  1990      26.0\n",
       "3      Sugar Ray Leonard         USA            3      boxing  1990      13.0\n",
       "4           Ayrton Senna      Brazil            4  car racing  1990      10.0\n",
       "5            Alain Prost      France            5  car racing  1990       9.0"
      ]
     },
     "execution_count": 30,
     "metadata": {},
     "output_type": "execute_result"
    }
   ],
   "source": [
    "df.head()"
   ]
  },
  {
   "cell_type": "code",
   "execution_count": 31,
   "metadata": {},
   "outputs": [
    {
     "data": {
      "text/plain": [
       "array(['boxing', 'car racing', 'golf', 'basketball', 'tennis',\n",
       "       'american football', 'baseball', 'hockey',\n",
       "       'american football / baseball', 'motor racing', 'f1 racing',\n",
       "       'soccer', 'cycling', 'mma'], dtype=object)"
      ]
     },
     "execution_count": 31,
     "metadata": {},
     "output_type": "execute_result"
    }
   ],
   "source": [
    "df[\"Sport\"].unique()"
   ]
  },
  {
   "cell_type": "markdown",
   "metadata": {},
   "source": [
    "#### It's looks like we have an entry call  'american football / baseball'. let's look which player is "
   ]
  },
  {
   "cell_type": "code",
   "execution_count": 32,
   "metadata": {},
   "outputs": [
    {
     "data": {
      "text/html": [
       "<div>\n",
       "<style scoped>\n",
       "    .dataframe tbody tr th:only-of-type {\n",
       "        vertical-align: middle;\n",
       "    }\n",
       "\n",
       "    .dataframe tbody tr th {\n",
       "        vertical-align: top;\n",
       "    }\n",
       "\n",
       "    .dataframe thead th {\n",
       "        text-align: right;\n",
       "    }\n",
       "</style>\n",
       "<table border=\"1\" class=\"dataframe\">\n",
       "  <thead>\n",
       "    <tr style=\"text-align: right;\">\n",
       "      <th></th>\n",
       "      <th>Name</th>\n",
       "      <th>Nationality</th>\n",
       "      <th>CurrentRank</th>\n",
       "      <th>Sport</th>\n",
       "      <th>Year</th>\n",
       "      <th>earnings</th>\n",
       "    </tr>\n",
       "    <tr>\n",
       "      <th>Index</th>\n",
       "      <th></th>\n",
       "      <th></th>\n",
       "      <th></th>\n",
       "      <th></th>\n",
       "      <th></th>\n",
       "      <th></th>\n",
       "    </tr>\n",
       "  </thead>\n",
       "  <tbody>\n",
       "    <tr>\n",
       "      <th>53</th>\n",
       "      <td>Deion Sanders</td>\n",
       "      <td>USA</td>\n",
       "      <td>3</td>\n",
       "      <td>american football / baseball</td>\n",
       "      <td>1995</td>\n",
       "      <td>22.5</td>\n",
       "    </tr>\n",
       "  </tbody>\n",
       "</table>\n",
       "</div>"
      ],
      "text/plain": [
       "                Name Nationality  CurrentRank                         Sport  \\\n",
       "Index                                                                         \n",
       "53     Deion Sanders         USA            3  american football / baseball   \n",
       "\n",
       "       Year  earnings  \n",
       "Index                  \n",
       "53     1995      22.5  "
      ]
     },
     "execution_count": 32,
     "metadata": {},
     "output_type": "execute_result"
    }
   ],
   "source": [
    "df[df[\"Sport\"] == 'american football / baseball']"
   ]
  },
  {
   "cell_type": "markdown",
   "metadata": {},
   "source": [
    "#### it's looks like is Deion Sanders let's search online to see his real Sport "
   ]
  },
  {
   "cell_type": "markdown",
   "metadata": {},
   "source": [
    "#### He was an American football player accordingly to wikipedia you can see [here](https://en.wikipedia.org/wiki/Deion_Sanders)  "
   ]
  },
  {
   "cell_type": "markdown",
   "metadata": {},
   "source": [
    "#### Let's fix this "
   ]
  },
  {
   "cell_type": "code",
   "execution_count": 33,
   "metadata": {},
   "outputs": [],
   "source": [
    "df[\"Sport\"] = df[\"Sport\"].apply(lambda sport: 'american football' if sport=='american football / baseball' else sport)"
   ]
  },
  {
   "cell_type": "code",
   "execution_count": 35,
   "metadata": {},
   "outputs": [
    {
     "data": {
      "text/plain": [
       "array(['boxing', 'car racing', 'golf', 'basketball', 'tennis',\n",
       "       'american football', 'baseball', 'hockey', 'motor racing',\n",
       "       'f1 racing', 'soccer', 'cycling', 'mma'], dtype=object)"
      ]
     },
     "execution_count": 35,
     "metadata": {},
     "output_type": "execute_result"
    }
   ],
   "source": [
    "df[\"Sport\"].unique()"
   ]
  },
  {
   "cell_type": "markdown",
   "metadata": {},
   "source": [
    "#### Just a quick note first we use a def function because we have multiple entrys to fix, since we only have to fix one entry on the last one we decide to use a lamda function"
   ]
  },
  {
   "cell_type": "markdown",
   "metadata": {},
   "source": [
    "### Saving as csv file "
   ]
  },
  {
   "cell_type": "code",
   "execution_count": 36,
   "metadata": {},
   "outputs": [],
   "source": [
    "df.to_csv(\"C:/Users/ewill/OneDrive/Desktop/Richest/richest_cleaned_data.csv\")"
   ]
  },
  {
   "cell_type": "code",
   "execution_count": null,
   "metadata": {},
   "outputs": [],
   "source": []
  }
 ],
 "metadata": {
  "kernelspec": {
   "display_name": "Python 3",
   "language": "python",
   "name": "python3"
  },
  "language_info": {
   "codemirror_mode": {
    "name": "ipython",
    "version": 3
   },
   "file_extension": ".py",
   "mimetype": "text/x-python",
   "name": "python",
   "nbconvert_exporter": "python",
   "pygments_lexer": "ipython3",
   "version": "3.8.5"
  }
 },
 "nbformat": 4,
 "nbformat_minor": 4
}
